{
 "cells": [
  {
   "cell_type": "markdown",
   "metadata": {},
   "source": [
    "*parcours en largeur - M. Liedloff, janvier 2021*\n",
    "\n",
    "# Consignes\n",
    "\n",
    "- sur Celene, téléchargez les fichiers indiqués\n",
    "- ouvrir un `terminal`, se déplacer dans le dossier où les fichiers ont été téléchargé (commande `cd`)\n",
    "- tapez dans le terminal la commande : `jupyter notebook`\n",
    "- ouvrir le fichier .ipynb"
   ]
  },
  {
   "cell_type": "markdown",
   "metadata": {},
   "source": [
    "# Manipulation de graphes et parcours en largeur"
   ]
  },
  {
   "cell_type": "markdown",
   "metadata": {},
   "source": [
    "Nous utilisons la syntaxe suivante, à base de dictionnaires et de listes, pour définir un graphe en Python : "
   ]
  },
  {
   "cell_type": "code",
   "execution_count": 1,
   "metadata": {},
   "outputs": [],
   "source": [
    "G = {\n",
    "    \"a\": [\"b\"],\n",
    "    \"b\": [\"a\", \"c\", \"d\"],\n",
    "    \"c\": [\"b\", \"d\"],\n",
    "    \"d\": [\"b\", \"c\", \"e\"],\n",
    "    \"e\": [\"d\"]\n",
    "}"
   ]
  },
  {
   "cell_type": "markdown",
   "metadata": {},
   "source": [
    "Ainsi, une fonction qui parcourt toutes les arêtes d'un graphe s'écrit simplement: "
   ]
  },
  {
   "cell_type": "code",
   "execution_count": 2,
   "metadata": {
    "collapsed": true
   },
   "outputs": [],
   "source": [
    "def AfficherAretes(G):\n",
    "    for u in G:\n",
    "        for v in G[u]:\n",
    "            print(\"Arête {%s,%s}\" % (u,v))"
   ]
  },
  {
   "cell_type": "code",
   "execution_count": 3,
   "metadata": {},
   "outputs": [
    {
     "name": "stdout",
     "output_type": "stream",
     "text": [
      "Arête {a,b}\n",
      "Arête {b,a}\n",
      "Arête {b,c}\n",
      "Arête {b,d}\n",
      "Arête {e,d}\n",
      "Arête {c,b}\n",
      "Arête {c,d}\n",
      "Arête {d,b}\n",
      "Arête {d,c}\n",
      "Arête {d,e}\n"
     ]
    }
   ],
   "source": [
    "AfficherAretes(G)"
   ]
  },
  {
   "cell_type": "markdown",
   "metadata": {},
   "source": [
    "Il est également possible d'afficher un graphe en utilisant [GraphViz](https://www.graphviz.org/) ([lien vers la documentation](http://graphviz.readthedocs.io/en/stable/index.html)).\n",
    "Si le code ci-dessous ne fonctionne pas sur votre machine, cela n'empêchera pas le bon déroulement de la suite du TP. Cela indique seulement que la librairie graphviz n'est pas installée."
   ]
  },
  {
   "cell_type": "code",
   "execution_count": null,
   "metadata": {},
   "outputs": [],
   "source": [
    "from graphviz import Graph\n",
    "dot = Graph()\n",
    "\n",
    "for v in G:\n",
    "    dot.node(v, \"sommet \"+v)\n",
    "\n",
    "for v in G:\n",
    "    for u in G[v]:\n",
    "        if v<=u:\n",
    "            dot.edge(v, u)\n",
    "print(dot)"
   ]
  },
  {
   "cell_type": "markdown",
   "metadata": {},
   "source": [
    "Il existe aussi des outils de visualiation en ligne : https://dreampuf.github.io/GraphvizOnline/"
   ]
  },
  {
   "cell_type": "markdown",
   "metadata": {},
   "source": [
    "Petite astuce: les **[dictionnaires](https://docs.python.org/3.5/tutorial/datastructures.html#dictionaries)** sont très utiles pour définir des états (ou d'autres choses). On peut définir une variable etats et s'en servir plus tard de la façon suivante :\n",
    "\n",
    "```\n",
    "etats = {}\n",
    "...\n",
    "etats[u] = \"non atteint\"\n",
    "...\n",
    "if etats[u]==\"non atteint\":\n",
    "etats[u] = \"atteint\"\n",
    "```"
   ]
  },
  {
   "cell_type": "markdown",
   "metadata": {},
   "source": [
    "On peut aussi utiliser des **[ensembles](https://docs.python.org/3.5/tutorial/datastructures.html#sets)** :\n",
    "```\n",
    "sommetsAtteints = set()\n",
    "...\n",
    "sommetsAtteints.add(u)\n",
    "...\n",
    "if u not in sommetsAtteints:\n",
    "# do something\n",
    "```"
   ]
  },
  {
   "cell_type": "markdown",
   "metadata": {},
   "source": [
    "Une **file FIFO** peut être implémentée en utilisant une *liste*.\n",
    "On y ajoute un élément avec la méthode `append`. Un élément est extrait avec la méthode `pop`. Voici un exemple pour manipuler une liste comme une file FIFO. Prenez le temps de lire ce code et de regarder le résultat produit."
   ]
  },
  {
   "cell_type": "code",
   "execution_count": 5,
   "metadata": {},
   "outputs": [
    {
     "name": "stdout",
     "output_type": "stream",
     "text": [
      "['élément A', 'élément B']\n",
      "élément A\n",
      "['élément B', 'élément C']\n",
      "longueur de la liste 2\n",
      "élément B\n",
      "élément C\n",
      "True\n"
     ]
    }
   ],
   "source": [
    "def estvide(F):\n",
    "    \"\"\" cette fonction retourne True si la liste est vide, sinon elle retourne False\"\"\"\n",
    "    if F:\n",
    "        return False\n",
    "    else:\n",
    "        return True\n",
    "\n",
    "F = [\"élément A\"] # pour initialiser une file vide : F = []\n",
    "F.append(\"élément B\") # ajoute un élément\n",
    "print(F)\n",
    "e = F.pop(0) # défile un élément\n",
    "print(e)\n",
    "F.append(\"élément C\")\n",
    "print(F)\n",
    "\n",
    "print(\"longueur de la liste\", len(F))\n",
    "\n",
    "# tant que la file n'est pas vide, on défile un élément et on l'affiche :\n",
    "while F:\n",
    "    print(F.pop(0))\n",
    "\n",
    "print(estvide(F))"
   ]
  },
  {
   "cell_type": "markdown",
   "metadata": {},
   "source": [
    "# Parcours en largeur\n",
    "\n",
    "## question 1\n",
    "Écrire une fonction `ParcoursLargeur(G,s)` de parcours en largeur, la mettre au point, et la tester sur le graphe `G` précédent (ou un autre graphe de votre choix). Cette fonction attend en entrée un graphe `G` et un sommet `s` à partir duquel le graphe est exploré.\n",
    "\n",
    "Pour le moment, vous n'avez pas besoin de gérer la distance `d` et le père `pere` de chaque sommet.\n",
    "\n",
    "![algorithme du parcours en largeur](http://www.univ-orleans.fr/lifo/Members/Mathieu.Liedloff/temp/ACSD/TP1/parcourslargeur.png)"
   ]
  },
  {
   "cell_type": "code",
   "execution_count": 6,
   "metadata": {},
   "outputs": [],
   "source": [
    "def ParcoursLargeur(G,s):\n",
    "    pass # l'instruction pass ne fait rien. Vous devez supprimer cette ligne et codez !"
   ]
  },
  {
   "cell_type": "code",
   "execution_count": 7,
   "metadata": {},
   "outputs": [],
   "source": [
    "ParcoursLargeur(G,'a')"
   ]
  },
  {
   "cell_type": "markdown",
   "metadata": {},
   "source": [
    "## question 2\n",
    "Un cookie a été caché sur l'un des sommets d'un graphe. Vous ne connaissez pas ce graphe (il est stocké sur un serveur), mais vous disposez des fonctions suivantes :\n",
    "- **`getAVertex()`** retourne un sommet du graphe à partir duquel vous commencez l'exploration du graphe.\n",
    "- **`getNeighbors(u)`** retourne la liste des voisins d'un sommet `u`.\n",
    "- **`Cookie(u)`** retourne True si et seulement si un cookie se trouve sur le sommet `u`.\n",
    "\n",
    "Pour vous connectez au serveur contenant le graphe, nous importons quelques fonctions puis nous utilisons la fonction connectSocket: "
   ]
  },
  {
   "cell_type": "code",
   "execution_count": 3,
   "metadata": {},
   "outputs": [],
   "source": [
    "from utils import connectSocket, closeSocket, sendcmd, recvcmd\n",
    "from utils import getNeighbors, getAVertex, Cookie, CookieDistance\n",
    "\n",
    "connectSocket(\"192.168.47.162\", 6667)\n",
    "#connectSocket(\"uomobile.univ-orleans.fr\", 6667)\n",
    "#connectSocket(\"distrigraphes.info-orleans.fr\", 8080)"
   ]
  },
  {
   "cell_type": "markdown",
   "metadata": {},
   "source": [
    "Attention: le graphe change à chaque connexion, sinon ce serait trop facile ! Il faut donc que votre algorithme de parcours soit vraiment au point.\n",
    "\n",
    "Voici un petit exemple d'utilisation de ces fonctions:"
   ]
  },
  {
   "cell_type": "code",
   "execution_count": 2,
   "metadata": {},
   "outputs": [
    {
     "name": "stdout",
     "output_type": "stream",
     "text": [
      ">>> GetStartingVertex \n",
      "<<< StartingVertex AA077\n",
      "Le sommet initial est AA077\n",
      ">>> GetNeighbor AA077\n",
      "<<< Neighborhood YM182#WM265#QT398\n",
      "Le sommet AA077 est voisin avec YM182\n",
      "Le sommet AA077 est voisin avec WM265\n",
      "Le sommet AA077 est voisin avec QT398\n",
      ">>> Cookie? AA077\n",
      "<<< Cookie No\n",
      "Le sommet  AA077 contient-il un cookie ? False\n"
     ]
    }
   ],
   "source": [
    "sommetInitial = getAVertex()\n",
    "print(\"Le sommet initial est\", sommetInitial)\n",
    "\n",
    "for v in getNeighbors(sommetInitial):\n",
    "    print(\"Le sommet\",sommetInitial, \"est voisin avec\", v)\n",
    "\n",
    "print(\"Le sommet \",sommetInitial, \"contient-il un cookie ?\", Cookie(sommetInitial))  "
   ]
  },
  {
   "cell_type": "markdown",
   "metadata": {},
   "source": [
    "Les lignes avec des chevrons `>>>` et `<<<` sont simplement les messages échangés entre votre machine et le serveur. Vous pouvez les ignorer ...\n",
    "\n",
    "Il faut maintenant adaptez votre algorithme de parcours en largeur pour écrire une fonction **`ParcoursLargeurNetwork()`** qui parcourt le graphe du serveur et affiche le nom du sommet contenant le cookie. \n",
    "**Saurez-vous trouver le cookie dans le graphe ?**"
   ]
  },
  {
   "cell_type": "code",
   "execution_count": 10,
   "metadata": {},
   "outputs": [],
   "source": [
    "def ParcoursLargeurNetwork():\n",
    "    s = getAVertex()\n",
    "    pass # à vous de jouer !"
   ]
  },
  {
   "cell_type": "code",
   "execution_count": 11,
   "metadata": {},
   "outputs": [
    {
     "name": "stdout",
     "output_type": "stream",
     "text": [
      ">>> GetStartingVertex \n",
      "<<< StartingVertex AI570\n",
      "Le cookie est sur le sommet None\n"
     ]
    }
   ],
   "source": [
    "coo = ParcoursLargeurNetwork()\n",
    "print(\"Le cookie est sur le sommet\", coo)"
   ]
  },
  {
   "cell_type": "markdown",
   "metadata": {},
   "source": [
    "## question 3\n",
    "\n",
    "Déterminez la distance entre le sommet retourné par `getAVertex()` et le sommet contenant le cookie. Pour vérifier votre résultat, utilisez la fonction **`CookieDistance(r)`** qui attend en paramètre la distance `r` que vous avez calculée et retourne `True` si et seulement si votre résultat est correct. "
   ]
  },
  {
   "cell_type": "code",
   "execution_count": 12,
   "metadata": {},
   "outputs": [],
   "source": [
    "(coo, dist) = ParcoursLargeurNetwork()\n",
    "print(\"Le cookie est sur le sommet\", coo, Cookie(coo) )\n",
    "print(\"Le cookie est à distance\", dist, CookieDistance(dist))"
   ]
  },
  {
   "cell_type": "markdown",
   "metadata": {},
   "source": [
    "## question 4\n",
    "Construire un plus court chemin du sommet de départ retourné par `getAVertex()` vers le sommet contenant le cookie."
   ]
  },
  {
   "cell_type": "code",
   "execution_count": null,
   "metadata": {
    "collapsed": true
   },
   "outputs": [],
   "source": []
  }
 ],
 "metadata": {
  "kernelspec": {
   "display_name": "Python 3 (ipykernel)",
   "language": "python",
   "name": "python3"
  },
  "language_info": {
   "codemirror_mode": {
    "name": "ipython",
    "version": 3
   },
   "file_extension": ".py",
   "mimetype": "text/x-python",
   "name": "python",
   "nbconvert_exporter": "python",
   "pygments_lexer": "ipython3",
   "version": "3.11.1"
  }
 },
 "nbformat": 4,
 "nbformat_minor": 2
}
